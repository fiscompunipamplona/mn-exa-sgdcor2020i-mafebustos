{
  "nbformat": 4,
  "nbformat_minor": 0,
  "metadata": {
    "colab": {
      "name": "campo.ipynb",
      "provenance": [],
      "collapsed_sections": []
    },
    "kernelspec": {
      "name": "python3",
      "display_name": "Python 3"
    }
  },
  "cells": [
    {
      "cell_type": "code",
      "metadata": {
        "id": "HqGthN7lq3IV",
        "colab_type": "code",
        "colab": {}
      },
      "source": [
        "import numpy \n",
        "import math\n",
        "from math import cos, sin,pi,sqrt\n",
        "from numpy import linspace\n",
        "import matplotlib.pyplot as plt"
      ],
      "execution_count": 0,
      "outputs": []
    },
    {
      "cell_type": "code",
      "metadata": {
        "id": "-0iaCJTMq7rh",
        "colab_type": "code",
        "outputId": "0913958a-9ac4-4a86-f9f8-a59679ea150f",
        "colab": {
          "base_uri": "https://localhost:8080/",
          "height": 295
        }
      },
      "source": [
        "def f(x):\n",
        "  f= cos(x)\n",
        "  return f\n",
        "def f2(x):\n",
        "  f2= sin(x)\n",
        "  return f2\n",
        "\n",
        "\n",
        "N=10\n",
        "a=0\n",
        "b=2\n",
        "h=((b-a)/N)\n",
        "\n",
        "E0=8.85e-12\n",
        "lda=5\n",
        "n=500\n",
        "Ex=linspace(-500,500,1000)\n",
        "Ey=linspace(-500,500,1000)\n",
        "I=numpy.empty([len(Ex),len(Ey)],numpy.float) #Creamos un arreglo que no contenga valores inicializados.\n",
        "print(len(Ex),len(Ey))\n",
        "\n",
        "for i in range(-500,500,1):\n",
        "    a=i\n",
        "    b=i+1\n",
        "    h=((b-a)/N)\n",
        "    fa=f(a)\n",
        "    fb=f(b)\n",
        "    acum=0\n",
        "    for k in range(2,N,2):\n",
        "        acum=(f(a+(h*k)))+acum\n",
        "\n",
        "\n",
        "    acum2=0\n",
        "    for k in range(1,N,2):\n",
        "        acum2=(f(a+(h*k)))+acum2\n",
        "\n",
        "    integral=0\n",
        "    integral=(h/3)*(fa+fb+(acum*2)+(acum2*4))\n",
        "    Ex[i]=(lda/(4*pi*E0))*(integral)\n",
        "    for j in range(-500,500,1):\n",
        "        acum3=0\n",
        "\n",
        "        f2a=f2(a)\n",
        "        f2b=f2(b)\n",
        "        for k in range(2,N,2):\n",
        "            acum3=(f2(a+(h*k)))+acum3\n",
        "\n",
        "\n",
        "        acum4=0\n",
        "        for k in range(1,N,2):\n",
        "            acum4=(f2(a+(h*k)))+acum4\n",
        "\n",
        "        integral2=0\n",
        "        integral2=(h/3)*(f2a+f2b+(acum3*2)+(acum4*4))\n",
        "        Ey[j]=(lda/(4*pi*E0))*(integral2)\n",
        "\n",
        "        if Ex.all==0:\n",
        "          I[i,j]=0\n",
        "        else:\n",
        "          I[i,j]=sqrt(Ex[i]**2+Ey[i]**2)\n",
        "\n",
        "plt.imshow(I,cmap='jet')\n",
        "plt.colorbar()\n",
        "plt.show()\n"
      ],
      "execution_count": 27,
      "outputs": [
        {
          "output_type": "stream",
          "text": [
            "1000 1000\n"
          ],
          "name": "stdout"
        },
        {
          "output_type": "display_data",
          "data": {
            "image/png": "[encoded data removed]",
            "text/plain": [
              "<Figure size 432x288 with 2 Axes>"
            ]
          },
          "metadata": {
            "tags": [],
            "needs_background": "light"
          }
        }
      ]
    },
    {
      "cell_type": "code",
      "metadata": {
        "id": "_d4SY1NNz_Lk",
        "colab_type": "code",
        "colab": {}
      },
      "source": [
        ""
      ],
      "execution_count": 0,
      "outputs": []
    }
  ]
}